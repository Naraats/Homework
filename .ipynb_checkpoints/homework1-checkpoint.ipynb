{
 "cells": [
  {
   "cell_type": "markdown",
   "id": "dd9db57b",
   "metadata": {},
   "source": [
    "Hw1"
   ]
  },
  {
   "cell_type": "code",
   "execution_count": 8,
   "id": "f4758d79",
   "metadata": {},
   "outputs": [
    {
     "name": "stdout",
     "output_type": "stream",
     "text": [
      "What is your name: Narka\n",
      "Your name is Narka.\n"
     ]
    }
   ],
   "source": [
    "m = input(\"What is your name: \")\n",
    "print('Your name is ' + str(m) + '.')"
   ]
  }
 ],
 "metadata": {
  "kernelspec": {
   "display_name": "Python 3 (ipykernel)",
   "language": "python",
   "name": "python3"
  },
  "language_info": {
   "codemirror_mode": {
    "name": "ipython",
    "version": 3
   },
   "file_extension": ".py",
   "mimetype": "text/x-python",
   "name": "python",
   "nbconvert_exporter": "python",
   "pygments_lexer": "ipython3",
   "version": "3.9.7"
  }
 },
 "nbformat": 4,
 "nbformat_minor": 5
}
