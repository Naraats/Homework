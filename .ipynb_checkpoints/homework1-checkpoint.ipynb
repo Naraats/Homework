{
 "cells": [
  {
   "cell_type": "markdown",
   "id": "ad6eee39",
   "metadata": {},
   "source": [
    "Hw1"
   ]
  },
  {
   "cell_type": "code",
   "execution_count": 8,
   "id": "86f34fa8",
   "metadata": {},
   "outputs": [
    {
     "name": "stdout",
     "output_type": "stream",
     "text": [
      "What is your name: Narka\n",
      "Your name is Narka.\n"
     ]
    }
   ],
   "source": [
    "m = input(\"What is your name: \")\n",
    "print('Your name is ' + str(m) + '.')"
   ]
  },
  {
   "cell_type": "code",
   "execution_count": 20,
   "id": "11a2b5fa",
   "metadata": {},
   "outputs": [
    {
     "name": "stdout",
     "output_type": "stream",
     "text": [
      "How old are you: 25\n",
      "You are younger that me. Because I am 7 older than you\n"
     ]
    }
   ],
   "source": [
    "a = input(\"How old are you: \")\n",
    "k=32-int(a)\n",
    "print('You are younger that me. Because I am '+str(k) + ' older than you')"
   ]
  }
 ],
 "metadata": {
  "kernelspec": {
   "display_name": "Python 3 (ipykernel)",
   "language": "python",
   "name": "python3"
  },
  "language_info": {
   "codemirror_mode": {
    "name": "ipython",
    "version": 3
   },
   "file_extension": ".py",
   "mimetype": "text/x-python",
   "name": "python",
   "nbconvert_exporter": "python",
   "pygments_lexer": "ipython3",
   "version": "3.9.7"
  }
 },
 "nbformat": 4,
 "nbformat_minor": 5
}
